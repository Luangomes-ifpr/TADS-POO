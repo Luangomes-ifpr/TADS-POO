{
 "cells": [
  {
   "cell_type": "markdown",
   "id": "c7ee3289-9b4f-4614-be87-f28d14196dc5",
   "metadata": {},
   "source": [
    "# Exercício 01\n",
    "<p style=\"text-align:justify;\">\n",
    "Crie um programa que armazene um vetor com as notas de dez alunos, calcule e imprima a média dessas notas e depois informe a quantidade de notas acima e abaixo da média calculada.\n",
    "</p>"
   ]
  },
  {
   "cell_type": "code",
   "execution_count": 3,
   "id": "ff67e1a8-6e02-4bc6-b061-51aaed7c7caa",
   "metadata": {
    "tags": []
   },
   "outputs": [
    {
     "name": "stdin",
     "output_type": "stream",
     "text": [
      " 10\n",
      " 8.8\n",
      " 9.7\n",
      " 6.5\n",
      " 4.2\n",
      " 9.1\n",
      " 5.7\n",
      " 6.0\n",
      " 8.2\n",
      " 8.4\n"
     ]
    },
    {
     "name": "stdout",
     "output_type": "stream",
     "text": [
      "A média geral é: 7.660001\n",
      "6 alunos ficaram acima da média\n",
      "4 alunos ficaram abaixo da média\n"
     ]
    },
    {
     "data": {
      "text/plain": [
       "null"
      ]
     },
     "execution_count": 3,
     "metadata": {},
     "output_type": "execute_result"
    }
   ],
   "source": [
    "import java.util.Scanner;\n",
    "// public static void main{\n",
    "    //     public static void Atv04Exercicio01(){\n",
    "        float media = 0;\n",
    "        float soma = 0;\n",
    "        int acimamedia = 0;\n",
    "        int abaixomedia = 0;\n",
    "        Scanner entrada = new Scanner(System.in);\n",
    "        float notas [] = new float[10];\n",
    "        for (int i = 0; i < notas.length; i++) {\n",
    "            notas[i] = entrada.nextFloat();\n",
    "            soma += notas[i];\n",
    "            media = soma/notas.length;\n",
    "        }   \n",
    "        for (int i = 0; i < notas.length; i++) {\n",
    "            if(notas[i]<media){\n",
    "                abaixomedia++;\n",
    "            }else{\n",
    "                acimamedia++;\n",
    "            }\n",
    "        }\n",
    "        System.out.println(\"A média geral é: \" + media);\n",
    "        System.out.println(acimamedia + \" alunos ficaram acima da média\");\n",
    "        System.out.println(abaixomedia + \" alunos ficaram abaixo da média\");\n",
    "//     }\n",
    "// }"
   ]
  },
  {
   "cell_type": "markdown",
   "id": "f55a5fce-412b-40a9-abcb-008951e349ae",
   "metadata": {},
   "source": [
    "# Exercício 02\n",
    "<p style=\"text-align:justify;\">\n",
    "Construa uma classe em Java que seja capaz de efetuar a leitura de uma matriz de valores reais de tamanho 3 x 3, calculando seu determinante.\n",
    "</p>"
   ]
  },
  {
   "cell_type": "code",
   "execution_count": 13,
   "id": "f3140b7a-9ec1-4421-8c76-38520f87d539",
   "metadata": {
    "tags": []
   },
   "outputs": [
    {
     "name": "stdout",
     "output_type": "stream",
     "text": [
      "128.0 6.0 27.0 151.0 158.0 102.0 188.0 237.0 86.0 \n",
      "A determinante é: -1153627.0\n"
     ]
    },
    {
     "data": {
      "text/plain": [
       "null"
      ]
     },
     "execution_count": 13,
     "metadata": {},
     "output_type": "execute_result"
    }
   ],
   "source": [
    "import java.util.Random;\n",
    "// public static void main{\n",
    "//     public static void Atv04Exercicio02(){\n",
    "        Random random = new Random();\n",
    "        float m[][] = new float[3][3];\n",
    "        for (int l=0; l<m.length; l++) {\n",
    "            for (int c=0; c<m[l].length; c++) {\n",
    "                m[l][c] = random.nextInt(255);\n",
    "        }\t}\n",
    "        for (int l=0; l<m.length; l++) {\n",
    "            for (int c=0; c<m[l].length; c++) {\n",
    "                System.out.print(m[l][c] + \" \");\n",
    "            }\n",
    "             System.out.print(\"\");\n",
    "        }\n",
    "        System.out.println();\n",
    "        float determinante = 0;\n",
    "        determinante += m[0][0] * (m[1][1] * m[2][2] - m[1][2] * m[2][1]);\n",
    "        determinante -= m[0][1] * (m[1][0] * m[2][2] - m[1][2] * m[2][0]);\n",
    "        determinante += m[0][2] * (m[1][0] * m[2][1] - m[1][1] * m[2][0]);\n",
    "\n",
    "        System.out.println(\"A determinante é: \"+ determinante);\n",
    "//     }\n",
    "// }"
   ]
  },
  {
   "cell_type": "markdown",
   "id": "7b9c1eef-464a-475c-b264-819c862a09bb",
   "metadata": {},
   "source": [
    "# Exercício 03\n",
    "<p style=\"text-align:justify;\">\n",
    "Faça uma classe contendo dois arrays do tipo inteiro, um chamado par e outro chamado ímpar. Cada array deve conter 10 elementos. A seguir, faça um laço de repetição com 10 iterações e que contenha internamente a geração randômica de números entre 1 e 20. Se o valor gerado for par, armazene no array chamado par, caso contrário, no array chamado impar. Ao final, apresente o conteúdo de cada um dos arrays.\n",
    "</p>"
   ]
  },
  {
   "cell_type": "code",
   "execution_count": 17,
   "id": "fe785da1-2ff1-4bd7-ab26-b007dcf05fc1",
   "metadata": {
    "tags": []
   },
   "outputs": [
    {
     "name": "stdout",
     "output_type": "stream",
     "text": [
      "Os valores pares são: [6, 8, 0, 12, 8, 10, 0, 18, 14, 0]\n",
      "Os valores impares são: [0, 0, 13, 0, 0, 0, 1, 0, 0, 17]"
     ]
    },
    {
     "data": {
      "text/plain": [
       "null"
      ]
     },
     "execution_count": 17,
     "metadata": {},
     "output_type": "execute_result"
    }
   ],
   "source": [
    "import java.util.Arrays;\n",
    "import java.util.Random;\n",
    "// public static void main{\n",
    "//     public static void Atv04Exercicio03(){\n",
    "        int par [] = new int [10];\n",
    "        int impar [] = new int [10];\n",
    "        int valor;\n",
    "        Random random = new Random();\n",
    "        for (int i = 0; i < 10; i++) {\n",
    "            valor = random.nextInt(20);\n",
    "            if(valor%2==0){\n",
    "                par[i]=valor;\n",
    "            }else{\n",
    "                impar[i]=valor;\n",
    "            }\n",
    "        }\n",
    "        System.out.println(\"Os valores pares são: \" + Arrays.toString(par));\n",
    "        System.out.print(\"Os valores impares são: \" + Arrays.toString(impar));\n",
    "//     }\n",
    "// }"
   ]
  },
  {
   "cell_type": "markdown",
   "id": "d062d462-4a98-4e65-8f3b-fe9c1a8e677e",
   "metadata": {},
   "source": [
    "# Exercício 04\n",
    "<p style=\"text-align:justify;\">\n",
    "Usando um array unidimensional de 10 elementos do tipo String, faça uma classe que simule a ocupação de um estacionamento de veículos. Considere que a posição do array corresponde ao número da vaga e para cada vaga é armazenada a placa do veículo que está estacionado. Sua classe deve conter um laço de repetição simulando um menu que controle a entrada e a saída dos veículos com as opções: 1-Entrada, 2-Saída e 3-Listar situação atual e 4-Encerrar o programa. Se o usuário escolher 1, solicite o número da vaga e a placa do veículo; se escolher 2, solicite o número da vaga que será liberada e armazene o valor branco na posição correspondente ao array; se escolher 3, liste a situação atual apresentando em tela todos os elementos do array; quando for 4, encerre o laço e o programa.\n",
    "</p>"
   ]
  },
  {
   "cell_type": "code",
   "execution_count": 18,
   "id": "64874188-7345-4348-8a4e-e9cb50d04ab2",
   "metadata": {
    "tags": []
   },
   "outputs": [
    {
     "name": "stdout",
     "output_type": "stream",
     "text": [
      "Selecione a sua opcao: \n",
      "1-Entrada\n",
      "2-Saida\n",
      "3-Listar situacao atual\n",
      "4-Encerrar programa\n"
     ]
    },
    {
     "name": "stdin",
     "output_type": "stream",
     "text": [
      " 1\n"
     ]
    },
    {
     "name": "stdout",
     "output_type": "stream",
     "text": [
      "Digite o numero de sua vaga e a placa do veiculo: \n"
     ]
    },
    {
     "name": "stdin",
     "output_type": "stream",
     "text": [
      " 1\n",
      " ASB-5522\n"
     ]
    },
    {
     "name": "stdout",
     "output_type": "stream",
     "text": [
      "Selecione a sua opcao: \n",
      "1-Entrada\n",
      "2-Saida\n",
      "3-Listar situacao atual\n",
      "4-Encerrar programa\n"
     ]
    },
    {
     "name": "stdin",
     "output_type": "stream",
     "text": [
      " 3\n"
     ]
    },
    {
     "name": "stdout",
     "output_type": "stream",
     "text": [
      "A vaga 1 esta ocupada pelo carro placa: ASB-5522\n",
      "A vaga 2 esta disponivel\n",
      "A vaga 3 esta disponivel\n",
      "A vaga 4 esta disponivel\n",
      "A vaga 5 esta disponivel\n",
      "A vaga 6 esta disponivel\n",
      "A vaga 7 esta disponivel\n",
      "A vaga 8 esta disponivel\n",
      "A vaga 9 esta disponivel\n",
      "A vaga 10 esta disponivel\n",
      "Selecione a sua opcao: \n",
      "1-Entrada\n",
      "2-Saida\n",
      "3-Listar situacao atual\n",
      "4-Encerrar programa\n"
     ]
    },
    {
     "name": "stdin",
     "output_type": "stream",
     "text": [
      " 1\n"
     ]
    },
    {
     "name": "stdout",
     "output_type": "stream",
     "text": [
      "Digite o numero de sua vaga e a placa do veiculo: \n"
     ]
    },
    {
     "name": "stdin",
     "output_type": "stream",
     "text": [
      " 3\n",
      " ASC-2255\n"
     ]
    },
    {
     "name": "stdout",
     "output_type": "stream",
     "text": [
      "Selecione a sua opcao: \n",
      "1-Entrada\n",
      "2-Saida\n",
      "3-Listar situacao atual\n",
      "4-Encerrar programa\n"
     ]
    },
    {
     "name": "stdin",
     "output_type": "stream",
     "text": [
      " 3\n"
     ]
    },
    {
     "name": "stdout",
     "output_type": "stream",
     "text": [
      "A vaga 1 esta ocupada pelo carro placa: ASB-5522\n",
      "A vaga 2 esta disponivel\n",
      "A vaga 3 esta ocupada pelo carro placa: ASC-2255\n",
      "A vaga 4 esta disponivel\n",
      "A vaga 5 esta disponivel\n",
      "A vaga 6 esta disponivel\n",
      "A vaga 7 esta disponivel\n",
      "A vaga 8 esta disponivel\n",
      "A vaga 9 esta disponivel\n",
      "A vaga 10 esta disponivel\n",
      "Selecione a sua opcao: \n",
      "1-Entrada\n",
      "2-Saida\n",
      "3-Listar situacao atual\n",
      "4-Encerrar programa\n"
     ]
    },
    {
     "name": "stdin",
     "output_type": "stream",
     "text": [
      " 2\n"
     ]
    },
    {
     "name": "stdout",
     "output_type": "stream",
     "text": [
      "Digite o numero de sua vaga: \n"
     ]
    },
    {
     "name": "stdin",
     "output_type": "stream",
     "text": [
      " 3\n"
     ]
    },
    {
     "name": "stdout",
     "output_type": "stream",
     "text": [
      "Selecione a sua opcao: \n",
      "1-Entrada\n",
      "2-Saida\n",
      "3-Listar situacao atual\n",
      "4-Encerrar programa\n"
     ]
    },
    {
     "name": "stdin",
     "output_type": "stream",
     "text": [
      " 3\n"
     ]
    },
    {
     "name": "stdout",
     "output_type": "stream",
     "text": [
      "A vaga 1 esta ocupada pelo carro placa: ASB-5522\n",
      "A vaga 2 esta disponivel\n",
      "A vaga 3 esta disponivel\n",
      "A vaga 4 esta disponivel\n",
      "A vaga 5 esta disponivel\n",
      "A vaga 6 esta disponivel\n",
      "A vaga 7 esta disponivel\n",
      "A vaga 8 esta disponivel\n",
      "A vaga 9 esta disponivel\n",
      "A vaga 10 esta disponivel\n",
      "Selecione a sua opcao: \n",
      "1-Entrada\n",
      "2-Saida\n",
      "3-Listar situacao atual\n",
      "4-Encerrar programa\n"
     ]
    },
    {
     "name": "stdin",
     "output_type": "stream",
     "text": [
      " 4\n"
     ]
    },
    {
     "data": {
      "text/plain": [
       "null"
      ]
     },
     "execution_count": 18,
     "metadata": {},
     "output_type": "execute_result"
    }
   ],
   "source": [
    "import java.util.Scanner;\n",
    "// public static void main {\n",
    "//     public static void Atv04Exercicio04(){\n",
    "        String placas [] = new String[11];\n",
    "        boolean ligado = true;\n",
    "        int vaga = 0;\n",
    "        int opcao = 0;\n",
    "        Scanner entrada = new Scanner (System.in);\n",
    "        while(ligado){\n",
    "            System.out.println(\"Selecione a sua opcao: \");\n",
    "            System.out.println(\"1-Entrada\");\n",
    "            System.out.println(\"2-Saida\");\n",
    "            System.out.println(\"3-Listar situacao atual\");\n",
    "            System.out.println(\"4-Encerrar programa\");\n",
    "            opcao = entrada.nextInt();\n",
    "            switch (opcao) {\n",
    "                case 1:\n",
    "                System.out.println(\"Digite o numero de sua vaga e a placa do veiculo: \");\n",
    "                vaga = entrada.nextInt();\n",
    "                if(placas[vaga] == null){\n",
    "                placas[vaga] = entrada.next();\n",
    "                }else{\n",
    "                    System.out.println(\"Essa vaga está ocupada\");\n",
    "                }   \n",
    "                break;\n",
    "                case 2:\n",
    "                System.out.println(\"Digite o numero de sua vaga: \");\n",
    "                vaga = entrada.nextInt();\n",
    "                placas[vaga] = null;   \n",
    "                break;\n",
    "                case 3:\n",
    "                for (int i = 1; i < placas.length; i++) {\n",
    "                    if(placas[i]==null){\n",
    "                        System.out.println(\"A vaga \" + i + \" esta disponivel\");\n",
    "                    }else{\n",
    "                        System.out.println(\"A vaga \" + i + \" esta ocupada pelo carro placa: \" + placas[i]);\n",
    "                    }\n",
    "                }   \n",
    "                break;\n",
    "                case 4:\n",
    "                    ligado = false;\n",
    "                break;\n",
    "                default:\n",
    "                System.out.println(\"Opcao invalida\");\n",
    "            }\n",
    "        }\n",
    "        entrada.close();\n",
    "//     }\n",
    "// }"
   ]
  },
  {
   "cell_type": "markdown",
   "id": "c9fef6b4-44c6-468e-9384-0409416c0249",
   "metadata": {},
   "source": [
    "# Exercício 05\n",
    "<p style=\"text-align:justify;\">\n",
    "Uma imagem é formada por pixels. Considere uma imagem com dimensão de 40 x 40 e faça uma classe que contenha um array bidimensional com essas dimensões. A seguir, para cada posição\n",
    "desse array bidimensional armazene um valor aleatório entre 0 e 255 (esses valores correspondem às tonalidades aplicadas sobre a imagem). Apresente em tela os 1600 valores gerados.\n",
    "</p>"
   ]
  },
  {
   "cell_type": "code",
   "execution_count": 20,
   "id": "4147c7b9-502e-4105-953b-0ded7337f4b1",
   "metadata": {
    "tags": []
   },
   "outputs": [
    {
     "name": "stdout",
     "output_type": "stream",
     "text": [
      "53 202 200 48 202 73 32 95 20 252 104 83 142 137 19 5 95 209 132 239 17 28 103 249 11 196 250 240 210 9 245 161 26 97 81 32 128 140 196 11 237 37 53 122 178 44 136 107 87 107 14 255 70 198 159 78 186 108 125 130 226 111 245 184 125 123 163 239 226 115 156 25 90 176 148 28 77 17 111 171 140 194 159 39 248 40 134 57 145 26 105 171 178 184 188 205 125 11 102 221 129 17 81 4 227 209 131 203 60 96 222 252 85 244 125 117 138 197 237 21 3 205 177 128 42 19 190 147 155 93 232 143 163 73 199 66 149 209 22 32 244 13 229 31 57 242 174 244 165 157 71 162 113 84 196 154 157 89 140 18 239 26 235 186 134 104 162 218 177 40 102 24 14 1 157 48 228 229 7 35 77 146 183 243 45 14 199 13 179 87 117 185 1 159 9 6 105 235 252 100 49 151 43 65 179 16 117 139 16 39 8 214 252 46 134 39 152 248 191 97 119 17 176 182 222 61 55 136 213 240 194 1 148 188 157 35 103 59 80 69 218 91 30 242 56 96 128 69 198 110 53 17 0 156 129 47 217 205 222 102 162 215 55 203 127 167 1 116 182 190 228 188 19 35 181 154 43 162 200 217 59 43 222 14 64 8 249 202 123 38 9 38 64 142 34 56 182 231 123 138 66 109 235 188 245 243 171 52 192 11 126 189 54 10 170 205 114 207 180 12 40 235 52 21 201 10 37 239 217 148 141 157 177 221 146 183 212 130 146 225 189 209 229 159 12 253 221 76 171 84 35 13 247 61 48 94 68 115 190 152 124 224 219 66 255 218 191 146 53 83 83 202 93 179 94 185 25 202 150 174 6 241 220 255 49 197 154 66 183 111 112 30 14 150 158 178 173 168 145 139 226 227 168 228 241 217 224 55 186 249 81 205 253 16 124 15 12 153 122 245 115 43 149 224 13 32 85 87 84 152 181 174 102 237 236 138 252 148 68 225 221 140 234 90 84 211 132 19 19 136 105 159 34 132 87 103 15 138 49 23 24 93 253 101 126 77 202 130 82 154 13 106 165 237 141 254 50 197 205 149 188 53 224 5 25 227 87 253 28 250 179 237 123 193 197 152 250 4 61 232 186 33 11 1 152 151 36 0 207 28 253 175 178 153 21 86 102 70 119 200 213 49 9 63 20 17 153 228 143 210 113 126 141 112 111 141 224 255 196 243 81 6 132 61 81 96 245 151 35 243 84 213 243 123 163 125 162 232 175 105 24 244 248 220 216 90 197 37 34 63 137 230 63 134 169 223 210 163 184 66 138 91 224 150 143 171 126 137 4 190 161 169 207 120 217 13 131 40 87 57 98 243 114 153 21 86 26 94 165 122 140 120 70 168 175 87 192 133 173 87 146 198 244 1 237 180 249 10 241 107 123 243 116 220 178 58 131 97 132 209 128 244 219 103 137 120 100 42 10 52 149 99 88 152 230 48 66 89 93 157 167 63 70 74 136 189 254 35 193 67 188 46 158 228 169 77 98 73 204 195 26 47 103 94 169 45 10 122 62 158 194 42 113 125 47 73 62 241 77 32 142 86 232 156 174 14 136 165 212 12 35 204 90 37 82 168 160 158 38 220 231 14 18 217 140 85 15 20 205 74 156 185 70 207 52 39 245 53 172 242 44 103 0 51 207 96 234 10 251 59 220 216 64 113 50 172 74 216 25 21 193 156 31 2 165 101 150 66 27 126 146 181 28 41 101 223 201 42 77 59 215 103 161 80 168 81 165 242 193 237 49 230 194 147 116 107 159 9 17 164 53 180 191 8 18 98 131 107 236 173 130 165 205 199 121 1 161 154 138 164 237 55 45 112 238 65 76 31 223 40 4 244 113 238 32 90 86 175 158 73 253 201 136 238 243 56 248 2 144 225 118 38 229 97 128 190 74 229 7 92 108 247 12 203 0 8 125 212 98 50 159 226 11 118 170 204 58 22 21 236 228 184 161 237 126 96 210 255 186 121 216 90 224 85 222 147 168 128 128 223 3 179 202 36 99 21 128 153 176 82 62 9 59 172 244 136 254 28 252 72 21 113 208 49 212 176 183 173 143 47 228 84 177 114 33 13 216 68 55 46 35 204 58 26 235 94 103 147 73 4 237 133 189 64 111 72 218 125 209 120 172 93 44 201 180 39 243 163 218 178 132 129 163 134 83 54 135 48 60 7 15 22 249 27 88 23 42 197 163 190 95 168 118 181 127 146 127 170 10 233 224 103 215 138 99 27 69 64 206 29 154 120 124 208 23 200 10 96 102 132 200 16 149 114 57 145 25 209 211 201 11 65 159 18 71 239 132 5 126 102 138 33 242 179 237 139 124 47 203 118 116 20 167 198 56 13 164 40 210 65 32 212 124 202 152 208 185 240 54 53 29 68 235 199 202 63 27 203 39 164 73 31 0 56 242 155 52 11 2 25 68 24 167 70 242 45 114 239 183 25 192 111 67 17 194 79 93 73 86 245 217 158 222 57 120 107 79 98 193 3 168 205 6 146 224 42 237 100 168 49 139 62 234 254 41 105 59 243 144 111 53 241 235 109 19 47 243 240 165 77 143 15 18 61 127 163 155 165 208 242 5 10 13 56 68 41 126 36 133 203 199 245 75 68 152 154 56 161 9 218 134 66 116 167 50 147 215 75 106 45 151 20 119 91 171 227 207 255 142 200 226 199 13 219 94 7 42 132 139 213 43 169 55 181 45 72 110 37 122 16 197 243 159 99 167 41 40 237 140 234 182 15 183 78 23 92 159 90 145 172 111 87 238 222 217 149 165 117 212 79 189 31 112 239 40 111 243 214 154 218 99 147 158 255 0 246 162 76 97 183 230 56 56 94 210 30 62 197 62 137 247 172 18 140 170 41 251 202 41 81 25 221 243 142 187 26 188 218 170 228 211 192 80 45 3 115 2 85 205 162 176 228 6 40 93 66 142 156 179 13 157 198 177 234 192 91 155 36 199 12 243 103 57 235 220 221 33 198 141 93 22 19 228 234 140 118 220 11 71 86 56 79 12 74 255 148 65 40 123 250 168 164 118 58 41 165 178 5 150 208 152 172 129 172 97 81 104 86 47 70 115 64 222 145 210 4 22 42 78 239 167 254 202 239 30 210 71 98 66 41 37 168 8 140 155 89 189 81 110 71 242 192 86 12 173 163 236 84 20 160 117 82 28 160 177 53 98 23 254 18 199 159 107 151 36 77 141 23 153 27 67 14 114 46 69 216 83 247 85 120 241 185 171 207 254 112 146 166 56 158 198 141 201 208 149 107 182 4 40 58 169 50 224 152 254 212 212 0 68 239 40 41 9 244 219 189 81 80 230 212 225 78 92 101 242 45 27 8 26 79 30 194 59 12 77 191 80 200 73 148 116 31 27 189 221 195 222 148 116 51 108 94 11 237 134 167 222 93 19 176 213 152 212 60 213 148 10 104 137 94 201 0 78 254 204 60 146 132 81 6 246 245 26 38 210 11 210 12 72 28 148 142 20 101 86 174 79 249 170 129 80 63 202 99 68 151 84 251 159 190 198 98 36 198 128 176 18 218 219 15 39 81 166 252 181 39 242 19 1 84 "
     ]
    },
    {
     "data": {
      "text/plain": [
       "null"
      ]
     },
     "execution_count": 20,
     "metadata": {},
     "output_type": "execute_result"
    }
   ],
   "source": [
    "import java.util.Random;\n",
    "// public static void main {\n",
    "//     public static void Atv04Exercicio05(){\n",
    "        Random random = new Random();\n",
    "                int m[][] = new int[40][40];\n",
    "                for (int l=0; l<m.length; l++) {\n",
    "                    for (int c=0; c<m[l].length; c++) {\n",
    "                        m[l][c] = random.nextInt(256);\n",
    "                }\t}\n",
    "                for (int l=0; l<m.length; l++) {\n",
    "                    for (int c=0; c<m[l].length; c++) {\n",
    "                        System.out.print(m[l][c] + \" \");\n",
    "                    }\n",
    "                     System.out.print(\"\");\n",
    "                }\n",
    "//     }\n",
    "// }"
   ]
  },
  {
   "cell_type": "code",
   "execution_count": null,
   "id": "b5a1b88a-98d9-4bf9-bb96-2a5d455194e4",
   "metadata": {},
   "outputs": [],
   "source": []
  }
 ],
 "metadata": {
  "kernelspec": {
   "display_name": "Java",
   "language": "java",
   "name": "java"
  },
  "language_info": {
   "codemirror_mode": "text/x-java",
   "file_extension": ".java",
   "mimetype": "",
   "name": "Java",
   "nbconverter_exporter": "",
   "version": "1.8.0_121"
  }
 },
 "nbformat": 4,
 "nbformat_minor": 5
}
