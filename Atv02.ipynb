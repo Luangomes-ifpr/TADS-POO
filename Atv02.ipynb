{
 "cells": [
  {
   "cell_type": "markdown",
   "id": "04689213-3104-4518-b399-8c1c86e4eace",
   "metadata": {},
   "source": [
    "# Exercício 01\n",
    "\n",
    "<p style=\"text-align:justify;\">\n",
    "Você é desafiado a criar uma classe em Java chamada ExercicioVariaveis que declare e inicialize variáveis de todos os tipos primitivos disponíveis na linguagem Java. Além disso, a classe deve utilizar caracteres especiais em algumas strings para demonstrar o uso adequado desses caracteres.\n",
    "\n",
    "Siga as instruções abaixo:\n",
    "</p>\n",
    "\n",
    "\n",
    "1. Declare e inicialize variáveis dos seguintes tipos primitivos:\n",
    "\n",
    "- int\n",
    "- long\n",
    "- float\n",
    "- double\n",
    "- char\n",
    "- boolean\n",
    "- byte\n",
    "- short\n",
    "- Exiba os valores das variáveis utilizando System.out.println.\n",
    "\n",
    "2. Utilize caracteres especiais em algumas strings para representar:\n",
    "\n",
    "- Caractere de nova linha (\\n)\n",
    "- Caractere de tabulação (\\t)\n",
    "- Caractere de aspas duplas (\")\n",
    "- Caractere de barra invertida (\\\\)\n",
    "- Certifique-se de que o código compila e execute corretamente.\n",
    "\n"
   ]
  },
  {
   "cell_type": "code",
   "execution_count": 2,
   "id": "16f0ad2d-7f62-4f2a-bc7c-0adff558865a",
   "metadata": {
    "tags": []
   },
   "outputs": [
    {
     "name": "stdout",
     "output_type": "stream",
     "text": [
      "1\n",
      "\n",
      "\t2\n",
      "\"2.3\"\n",
      "\\4.0\n",
      "e\n",
      "true\n",
      "97\n",
      "98\n"
     ]
    },
    {
     "data": {
      "text/plain": [
       "null"
      ]
     },
     "execution_count": 2,
     "metadata": {},
     "output_type": "execute_result"
    }
   ],
   "source": [
    "// import java.util.Scanner;\n",
    "\n",
    "// public class POOAULA {\n",
    "\n",
    "    // public static void Exercicio1(){\n",
    "        int a = 1;\n",
    "        long b = 2;\n",
    "        float c = (float) 2.3;\n",
    "        double d = 4;\n",
    "        char e = 'e';\n",
    "        boolean f = true;\n",
    "        byte g = 'a';\n",
    "        short h = 'b';\n",
    "\n",
    "        System.out.println(a + \"\\n\");\n",
    "        System.out.println( \"\\t\"+ b);\n",
    "        System.out.println(\"\\\"\" + c + \"\\\"\");\n",
    "        System.out.println(\"\\\\\"+d);\n",
    "        System.out.println(e);\n",
    "        System.out.println(f);\n",
    "        System.out.println(g);\n",
    "        System.out.println(h);\n",
    "//     }\n",
    "// }"
   ]
  },
  {
   "cell_type": "markdown",
   "id": "6a091ea4-7160-4a68-8e27-516281cdde44",
   "metadata": {},
   "source": [
    "# Exercício 02\n",
    "\n",
    "<p style=\"text-align:justify;\">\n",
    "Crie uma classe que efetue a leitura de um valor inteiro e outro real, exibindo-os no console.\n",
    "</p>\n"
   ]
  },
  {
   "cell_type": "code",
   "execution_count": 11,
   "id": "b1fc1c9c-1041-4489-ab5a-c6dbb117c46e",
   "metadata": {
    "tags": []
   },
   "outputs": [
    {
     "name": "stdout",
     "output_type": "stream",
     "text": [
      "Digite um valor inteiro:\n"
     ]
    },
    {
     "name": "stdin",
     "output_type": "stream",
     "text": [
      " 1\n"
     ]
    },
    {
     "name": "stdout",
     "output_type": "stream",
     "text": [
      "Digite um valor real:\n"
     ]
    },
    {
     "name": "stdin",
     "output_type": "stream",
     "text": [
      " 2.5\n"
     ]
    },
    {
     "name": "stdout",
     "output_type": "stream",
     "text": [
      "1\n",
      "2.5\n"
     ]
    },
    {
     "data": {
      "text/plain": [
       "null"
      ]
     },
     "execution_count": 11,
     "metadata": {},
     "output_type": "execute_result"
    }
   ],
   "source": [
    "import java.util.Scanner;\n",
    "\n",
    "// public class POOAULA {\n",
    "    // public static void Exercicio2(){\n",
    "        Scanner entrada = new Scanner(System.in);\n",
    "        System.out.println(\"Digite um valor inteiro:\");\n",
    "        int a = entrada.nextInt();\n",
    "        System.out.println(\"Digite um valor real:\");\n",
    "        float b = entrada.nextFloat();\n",
    "        entrada.close();\n",
    "\n",
    "        System.out.println(a);\n",
    "        System.out.println(b);\n",
    "//     }\n",
    "// }"
   ]
  },
  {
   "cell_type": "markdown",
   "id": "f4fa7c5f-f375-4dbd-9d41-c29e4aa530b8",
   "metadata": {},
   "source": [
    "# Exercício 03\n",
    "\n",
    "<p style=\"text-align:justify;\">\n",
    "Crie uma classe que receba o valor de um produto e a porcentagem de desconto, calcule e mostre o valor do desconto e o valor do produto com o desconto. \n",
    "</p>\n",
    "\n",
    "- Observação: o valor do desconto é calculado por meio da fórmula: \n",
    "    valor do desconto = valor do produto * percentual de desconto / 100."
   ]
  },
  {
   "cell_type": "code",
   "execution_count": 12,
   "id": "27572059-80fa-4edc-8b68-8a278f44beb2",
   "metadata": {
    "tags": []
   },
   "outputs": [
    {
     "name": "stdout",
     "output_type": "stream",
     "text": [
      "Digite o valor do produto: "
     ]
    },
    {
     "name": "stdin",
     "output_type": "stream",
     "text": [
      " 100\n"
     ]
    },
    {
     "name": "stdout",
     "output_type": "stream",
     "text": [
      "Digite o percentual de desconto: "
     ]
    },
    {
     "name": "stdin",
     "output_type": "stream",
     "text": [
      " 10\n"
     ]
    },
    {
     "name": "stdout",
     "output_type": "stream",
     "text": [
      "O valor do desconto concedido foi de R$10.00\n",
      "O valor a ser pago é de R$90.00\n"
     ]
    },
    {
     "data": {
      "text/plain": [
       "null"
      ]
     },
     "execution_count": 12,
     "metadata": {},
     "output_type": "execute_result"
    }
   ],
   "source": [
    "import java.util.Scanner;\n",
    "\n",
    "// public class POOAULA {\n",
    "//     public static void Exercicio3(){\n",
    "        Scanner entrada = new Scanner (System.in);\n",
    "        System.out.print(\"Digite o valor do produto: \");\n",
    "        float produto = entrada.nextFloat();\n",
    "        System.out.print(\"Digite o percentual de desconto: \");\n",
    "        float percentual = entrada.nextFloat();\n",
    "        float desconto = produto * percentual /100;\n",
    "        entrada.close();\n",
    "        System.out.printf(\"O valor do desconto concedido foi de R$%.2f\\n\", desconto);\n",
    "        System.out.printf(\"O valor a ser pago é de R$%.2f\\n\", produto-desconto);\n",
    "\n",
    "//     }\n",
    "// }"
   ]
  },
  {
   "cell_type": "markdown",
   "id": "9fe1c075-7e1e-4ee7-ad63-82c57f315026",
   "metadata": {},
   "source": [
    "# Exercício 04\n",
    "\n",
    "<p style=\"text-align:justify;\">\n",
    "Crie uma classe que receba dois valores inteiros. \n",
    "</p>\n",
    "\n",
    "- O primeiro valor corresponde à quantidade de pontos do líder do campeonato brasileiro de futebol. \n",
    "\n",
    "- O segundo valor corresponde à quantidade de pontos do time lanterna. \n",
    "\n",
    "<p style=\"text-align:justify;\">\n",
    "- Considerando que cada vitória vale 3 pontos, calcule o número de vitórias necessárias para que o time lanterna alcance (ou ultrapasse) o líder. \n",
    "    \n",
    "- Por exemplo, supondo que as quantidades de ponto fornecidas sejam 40 e 22, então o número de vitórias apresentada na saída deverá ser 6, pois (40-22) / 3 = 6.\n",
    "</p>"
   ]
  },
  {
   "cell_type": "code",
   "execution_count": 13,
   "id": "5914c0ce-a615-4b29-804e-ef33d0791bcc",
   "metadata": {
    "tags": []
   },
   "outputs": [
    {
     "name": "stdout",
     "output_type": "stream",
     "text": [
      "Digite a quantidade de pontos do líder: "
     ]
    },
    {
     "name": "stdin",
     "output_type": "stream",
     "text": [
      " 40\n"
     ]
    },
    {
     "name": "stdout",
     "output_type": "stream",
     "text": [
      "Digite a quantidade de pontos do lanterna: "
     ]
    },
    {
     "name": "stdin",
     "output_type": "stream",
     "text": [
      " 22\n"
     ]
    },
    {
     "name": "stdout",
     "output_type": "stream",
     "text": [
      "O número de vitórias necessárias para o lanterna alcançar o líder é de: 6 vitória (s)"
     ]
    },
    {
     "data": {
      "text/plain": [
       "null"
      ]
     },
     "execution_count": 13,
     "metadata": {},
     "output_type": "execute_result"
    }
   ],
   "source": [
    "import java.util.Scanner;\n",
    "\n",
    "// public class POOAULA {\n",
    "//     public static void Exercicio4(){\n",
    "        Scanner entrada = new Scanner (System.in);\n",
    "        System.out.print(\"Digite a quantidade de pontos do líder: \");\n",
    "        int lider = entrada.nextInt();\n",
    "        System.out.print(\"Digite a quantidade de pontos do lanterna: \");\n",
    "        int lanterna = entrada.nextInt();\n",
    "        int diferenca = (lider-lanterna)/3;\n",
    "        entrada.close();\n",
    "        System.out.printf(\"O número de vitórias necessárias para o lanterna alcançar o líder é de: %d vitória (s)\", diferenca);\n",
    "        \n",
    "//     }\n",
    "// }"
   ]
  },
  {
   "cell_type": "markdown",
   "id": "4633896c-66f1-4a5c-84f4-de80d09b3a6b",
   "metadata": {
    "tags": []
   },
   "source": [
    "# Exercício 05\n",
    "\n",
    "<p style=\"text-align:justify;\">\n",
    "Escreva instruções para realizar cada uma das tarefas a seguir:\n",
    "\n",
    "1. Declare que as variáveis c, thisIsAVariable, q76354 e number serão do tipo int.\n",
    "\n",
    "2. Solicite que o usuário insira um inteiro.\n",
    "\n",
    "3. Insira um inteiro e atribua o resultado à variável int value. Suponha que a variável Scanner input possa ser utilizada para ler um valor digitado pelo usuário.\n",
    "\n",
    "4. Imprima “Este é um programa em Java\" em uma linha na janela de comando. Use o método System.out.println.\n",
    "\n",
    "5. Imprima “Este é um programa em Java\" em duas linhas na janela de comando. Utilize o método System.out.printf e dois especificadores de formato %s.\n",
    "</p>\n"
   ]
  },
  {
   "cell_type": "code",
   "execution_count": 1,
   "id": "903c8fa4-b021-4ea7-81a4-a5f49bba3875",
   "metadata": {},
   "outputs": [
    {
     "name": "stdout",
     "output_type": "stream",
     "text": [
      "Digite um valor inteiro: "
     ]
    },
    {
     "name": "stdin",
     "output_type": "stream",
     "text": [
      " 1\n"
     ]
    },
    {
     "name": "stdout",
     "output_type": "stream",
     "text": [
      "Este é um programa em Java\n",
      "Este é um programa em java"
     ]
    },
    {
     "data": {
      "text/plain": [
       "null"
      ]
     },
     "execution_count": 1,
     "metadata": {},
     "output_type": "execute_result"
    }
   ],
   "source": [
    "import java.util.Scanner;\n",
    "\n",
    "// public class POOAULA {\n",
    "    // public static void Exercicio5(){\n",
    "        Scanner input = new Scanner (System.in);\n",
    "        int c,thiIsAVariable,q76354, number;\n",
    "        System.out.print(\"Digite um valor inteiro: \");\n",
    "        int value = input.nextInt();\n",
    "        System.out.println(\"Este é um programa em Java\");\n",
    "        String programa = \"programa\";\n",
    "        String java = \"java\";    \n",
    "        System.out.printf(\"Este é um %s em %s\", programa, java);\n",
    "//     }\n",
    "// }"
   ]
  },
  {
   "cell_type": "markdown",
   "id": "42906d7e-d01b-49b2-bfef-ed4fdd6dab07",
   "metadata": {},
   "source": [
    "# Exercício 06 \n",
    "<p style=\"text-align:justify;\">\n",
    "Crie uma classe que solicite ao usuário inserir dois inteiros, obtenha dele esses números e imprima sua soma, produto, diferença e quociente (divisão).\n",
    "</p>"
   ]
  },
  {
   "cell_type": "code",
   "execution_count": 14,
   "id": "68cc1699-d585-40ea-b0d4-edd278538f20",
   "metadata": {
    "tags": []
   },
   "outputs": [
    {
     "name": "stdout",
     "output_type": "stream",
     "text": [
      "Digite dois valores: "
     ]
    },
    {
     "name": "stdin",
     "output_type": "stream",
     "text": [
      " 7 2\n"
     ]
    },
    {
     "name": "stdout",
     "output_type": "stream",
     "text": [
      "A soma dos valores é: 9.00\n",
      "O produto dos valores é: 14.00\n",
      "A diferença dos valores é: 5.00\n",
      "O quociente dos valores é: 3.50\n"
     ]
    },
    {
     "data": {
      "text/plain": [
       "null"
      ]
     },
     "execution_count": 14,
     "metadata": {},
     "output_type": "execute_result"
    }
   ],
   "source": [
    "import java.util.Scanner;\n",
    "\n",
    "// public class POOAULA {\n",
    "    // public static void Exercicio6(){\n",
    "        Scanner entrada = new Scanner (System.in);\n",
    "        System.out.print(\"Digite dois valores: \");\n",
    "        float a = entrada.nextFloat();\n",
    "        float b = entrada.nextFloat();\n",
    "        float soma = a + b;\n",
    "        float produto = a * b;\n",
    "        float diferenca = a - b;\n",
    "        float quociente = a / b;\n",
    "        entrada.close();\n",
    "        System.out.printf(\"A soma dos valores é: %.2f\\n\", soma);\n",
    "        System.out.printf(\"O produto dos valores é: %.2f\\n\", produto);\n",
    "        System.out.printf(\"A diferença dos valores é: %.2f\\n\", diferenca);\n",
    "        System.out.printf(\"O quociente dos valores é: %.2f\\n\", quociente);\n",
    "//     }\n",
    "// }"
   ]
  },
  {
   "cell_type": "markdown",
   "id": "db7c7f2a-c557-430a-ade4-8252198f95b5",
   "metadata": {},
   "source": [
    "# Exercício 07 \n",
    "\n",
    "Declare uma classe para calcular o produto de três inteiros.\n",
    "\n",
    "Siga as instruções abaixo:\n",
    "\n",
    "1. Crie um Scanner chamado input que leia valores a partir da entrada padrão.\n",
    "2. Declare as variáveis x, y, z e result como tipo int.\n",
    "3. Solicite que o usuário insira o primeiro inteiro.\n",
    "4. Leia o primeiro inteiro digitado pelo usuário e armazene-o na variável x.\n",
    "5. Solicite que o usuário insira o segundo inteiro.\n",
    "6. Leia o segundo inteiro digitado pelo usuário e armazene-o na variável y.\n",
    "7. Solicite que o usuário insira o terceiro inteiro.\n",
    "8. Leia o terceiro inteiro digitado pelo usuário e armazene-o na variável z.\n",
    "9. Compute o produto dos três inteiros contidos nas variáveis x, y e z e atribua o resultado à variável result.\n",
    "19. Use System.out.printf para exibir a mensagem “O valor do produto é” seguida pelo valor da variável result. "
   ]
  },
  {
   "cell_type": "code",
   "execution_count": 16,
   "id": "c421ee60-57dd-4674-8436-2e43e758e4f1",
   "metadata": {
    "tags": []
   },
   "outputs": [
    {
     "name": "stdout",
     "output_type": "stream",
     "text": [
      "Digite o primeiro valor: "
     ]
    },
    {
     "name": "stdin",
     "output_type": "stream",
     "text": [
      " 7\n"
     ]
    },
    {
     "name": "stdout",
     "output_type": "stream",
     "text": [
      "Digite o segundo valor: "
     ]
    },
    {
     "name": "stdin",
     "output_type": "stream",
     "text": [
      " 2\n"
     ]
    },
    {
     "name": "stdout",
     "output_type": "stream",
     "text": [
      "Digite o terceiro valor: "
     ]
    },
    {
     "name": "stdin",
     "output_type": "stream",
     "text": [
      " 5\n"
     ]
    },
    {
     "name": "stdout",
     "output_type": "stream",
     "text": [
      "O valor do produto é 70\n"
     ]
    },
    {
     "data": {
      "text/plain": [
       "null"
      ]
     },
     "execution_count": 16,
     "metadata": {},
     "output_type": "execute_result"
    }
   ],
   "source": [
    "import java.util.Scanner;\n",
    "\n",
    "// public class POOAULA {\n",
    "//     public static void Exercicio7(){\n",
    "        Scanner input = new Scanner (System.in);\n",
    "        int x, y, z, result;\n",
    "        System.out.print(\"Digite o primeiro valor: \");\n",
    "        x =  input.nextInt();\n",
    "        System.out.print(\"Digite o segundo valor: \");\n",
    "        y =  input.nextInt();\n",
    "        System.out.print(\"Digite o terceiro valor: \");\n",
    "        z =  input.nextInt();\n",
    "        result = x*y*z;\n",
    "        input.close();\n",
    "        System.out.println(\"O valor do produto é \" + result);\n",
    "//     }\n",
    "// }"
   ]
  },
  {
   "cell_type": "code",
   "execution_count": null,
   "id": "57a16fc0-e9d0-4347-9bcd-91c94b32a56c",
   "metadata": {},
   "outputs": [],
   "source": []
  }
 ],
 "metadata": {
  "kernelspec": {
   "display_name": "Java",
   "language": "java",
   "name": "java"
  },
  "language_info": {
   "codemirror_mode": "text/x-java",
   "file_extension": ".java",
   "mimetype": "",
   "name": "Java",
   "nbconverter_exporter": "",
   "version": "1.8.0_121"
  }
 },
 "nbformat": 4,
 "nbformat_minor": 5
}
